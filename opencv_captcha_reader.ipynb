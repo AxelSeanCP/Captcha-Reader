{
  "nbformat": 4,
  "nbformat_minor": 0,
  "metadata": {
    "colab": {
      "provenance": []
    },
    "kernelspec": {
      "name": "python3",
      "display_name": "Python 3"
    },
    "language_info": {
      "name": "python"
    }
  },
  "cells": [
    {
      "cell_type": "markdown",
      "source": [
        "# Setup"
      ],
      "metadata": {
        "id": "Cgdkf76jdODc"
      }
    },
    {
      "cell_type": "code",
      "execution_count": null,
      "metadata": {
        "id": "91wRs2_uZnot"
      },
      "outputs": [],
      "source": [
        "!pip install opendatasets -q\n",
        "!pip install imutils -q"
      ]
    },
    {
      "cell_type": "markdown",
      "source": [
        "## Import Libraries"
      ],
      "metadata": {
        "id": "1T9W-x1sdS1A"
      }
    },
    {
      "cell_type": "code",
      "source": [
        "import cv2\n",
        "import imutils\n",
        "import glob\n",
        "import matplotlib.pyplot as plt\n",
        "import numpy as np\n",
        "import opendatasets as od\n",
        "import os\n",
        "import tensorflow as tf\n",
        "import tensorflow.keras.layers as layers"
      ],
      "metadata": {
        "id": "wFhOR5u8Zzth"
      },
      "execution_count": null,
      "outputs": []
    },
    {
      "cell_type": "markdown",
      "source": [
        "# Data Loading"
      ],
      "metadata": {
        "id": "xZ9fLjr9dgvg"
      }
    },
    {
      "cell_type": "code",
      "source": [
        "od.download(\"https://www.kaggle.com/datasets/johnbergmann/captcha-image-dataset\")"
      ],
      "metadata": {
        "id": "s1EyBw-3dgpr"
      },
      "execution_count": null,
      "outputs": []
    },
    {
      "cell_type": "code",
      "source": [
        "IMAGE_FOLDER = \"/content/captcha-image-dataset/captchas\"\n",
        "OUTPUT_FOLDER = \"extracted_letter_images\""
      ],
      "metadata": {
        "id": "_z-TAjGYdpWY"
      },
      "execution_count": null,
      "outputs": []
    },
    {
      "cell_type": "markdown",
      "source": [
        "# Split the captcha into individual letters"
      ],
      "metadata": {
        "id": "ara3wsvUgfuN"
      }
    },
    {
      "cell_type": "markdown",
      "source": [
        "## Get all the captcha images"
      ],
      "metadata": {
        "id": "OzBdRtESgn4s"
      }
    },
    {
      "cell_type": "code",
      "source": [
        "captcha_image_files = glob.glob(os.path.join(IMAGE_FOLDER, \"*\"))\n",
        "counts = {}"
      ],
      "metadata": {
        "id": "o5W-k57qgfCs"
      },
      "execution_count": null,
      "outputs": []
    },
    {
      "cell_type": "markdown",
      "source": [
        "## Loop over the images"
      ],
      "metadata": {
        "id": "OiX988U8g8M2"
      }
    },
    {
      "cell_type": "code",
      "source": [
        "for (i, captcha_image_file) in enumerate(captcha_image_files):\n",
        "  print(\"[INFO] processing image {}/{}\".format(i + 1, len(captcha_image_files)))\n",
        "\n",
        "  # Grab the label from the file name\n",
        "  filename = os.path.basename(captcha_image_file)\n",
        "  captcha_correct_label = os.path.splitext(filename.split('_')[1])[0].lower()\n",
        "\n",
        "  # Convert the image to grayscale\n",
        "  image = cv2.imread(captcha_image_file)\n",
        "  gray_image = cv2.cvtColor(image, cv2.COLOR_BGR2GRAY)\n",
        "\n",
        "  # Add padding to image\n",
        "  gray_image = cv2.copyMakeBorder(gray_image, 8, 8, 8, 8, cv2.BORDER_REPLICATE)\n",
        "\n",
        "  # Threshold the image to convert it to pure black and white\n",
        "  thresh = cv2.threshold(gray_image, 0, 255, cv2.THRESH_BINARY_INV | cv2.THRESH_OTSU)[1]\n",
        "\n",
        "  # Find the contours of the image\n",
        "  contours = cv2.findContours(thresh.copy(), cv2.RETR_EXTERNAL, cv2.CHAIN_APPROX_SIMPLE)\n",
        "\n",
        "  contours = contours[1] if imutils.is_cv3() else contours[0]\n",
        "\n",
        "  letter_image_regions = []\n",
        "\n",
        "  # Loop through each of the six contours and extract letter\n",
        "  for contour in contours:\n",
        "    # Get the rectangle that contains the contour\n",
        "    (x, y, w, h) = cv2.boundingRect(contour)\n",
        "\n",
        "    # Compare the width and height of the contour to detect if a letter is conjoined\n",
        "    if w / h > 1.25:\n",
        "      # Conjoined letter\n",
        "      # Split into half\n",
        "      half_width = int(w / 2)\n",
        "      letter_image_regions.append((x, y, half_width, h))\n",
        "      letter_image_regions.append((x + half_width, y, half_width, h))\n",
        "    else:\n",
        "      # Normal letter\n",
        "      letter_image_regions.append((x, y, w, h))\n",
        "\n",
        "  # If no 6 letters are found then skip the image\n",
        "  if len(letter_image_regions) != 6:\n",
        "    continue\n",
        "\n",
        "  # Sort the image\n",
        "  letter_image_regions = sorted(letter_image_regions, key=lambda x: x[0])\n",
        "\n",
        "  # Save each letter as single image\n",
        "  for letter_bounding_box, letter_text in zip(letter_image_regions, captcha_correct_label):\n",
        "    x, y, w, h = letter_bounding_box\n",
        "\n",
        "    # Extract the letter from the original image with a 2 pixel margin\n",
        "    letter_image = gray_image[y-2:y + h + 2, x-2: x + w + 2]\n",
        "    save_path = os.path.join(OUTPUT_FOLDER, letter_text)\n",
        "\n",
        "    # If the output directory does not exist then create it\n",
        "    if not os.path.exists(save_path):\n",
        "      os.makedirs(save_path)\n",
        "\n",
        "    # Write the letter image to a file\n",
        "    count = counts.get(letter_text, 1)\n",
        "    p = os.path.join(save_path, \"{}.png\".format(str(count).zfill(6)))\n",
        "    cv2.imwrite(p, letter_image)\n",
        "\n",
        "    # Increment the count for the current key\n",
        "    counts[letter_text] = count + 1"
      ],
      "metadata": {
        "id": "ar12ZqjtyzIv"
      },
      "execution_count": null,
      "outputs": []
    }
  ]
}