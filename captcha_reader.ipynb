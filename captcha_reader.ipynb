{
  "nbformat": 4,
  "nbformat_minor": 0,
  "metadata": {
    "colab": {
      "provenance": []
    },
    "kernelspec": {
      "name": "python3",
      "display_name": "Python 3"
    },
    "language_info": {
      "name": "python"
    }
  },
  "cells": [
    {
      "cell_type": "markdown",
      "source": [
        "# Setup"
      ],
      "metadata": {
        "id": "xFNXmYkF8RJb"
      }
    },
    {
      "cell_type": "code",
      "execution_count": 1,
      "metadata": {
        "id": "OYdDIi_Uxl7c"
      },
      "outputs": [],
      "source": [
        "!pip install -q opendatasets"
      ]
    },
    {
      "cell_type": "markdown",
      "source": [
        "## Import libraries"
      ],
      "metadata": {
        "id": "0MoGD2LY8TEd"
      }
    },
    {
      "cell_type": "code",
      "source": [
        "import pandas as pd\n",
        "import opendatasets as od\n",
        "import numpy as np\n",
        "import os\n",
        "import tensorflow as tf\n",
        "from PIL import Image\n",
        "from tensorflow.keras.layers import Dense, Dropout, Conv2D, MaxPooling2D, Flatten, Input"
      ],
      "metadata": {
        "id": "g3PTuugKxx0x"
      },
      "execution_count": 2,
      "outputs": []
    },
    {
      "cell_type": "markdown",
      "source": [
        "# Data Loading"
      ],
      "metadata": {
        "id": "n2Ps6IvD8VG3"
      }
    },
    {
      "cell_type": "code",
      "source": [
        "od.download(\"https://www.kaggle.com/datasets/johnbergmann/captcha-image-dataset\")"
      ],
      "metadata": {
        "colab": {
          "base_uri": "https://localhost:8080/"
        },
        "id": "qYre1L9yx2lA",
        "outputId": "d9ada11f-30fe-4924-b52d-9bb243cf5212"
      },
      "execution_count": 3,
      "outputs": [
        {
          "output_type": "stream",
          "name": "stdout",
          "text": [
            "Dataset URL: https://www.kaggle.com/datasets/johnbergmann/captcha-image-dataset\n",
            "Downloading captcha-image-dataset.zip to ./captcha-image-dataset\n"
          ]
        },
        {
          "output_type": "stream",
          "name": "stderr",
          "text": [
            "100%|██████████| 39.5M/39.5M [00:00<00:00, 62.9MB/s]\n"
          ]
        },
        {
          "output_type": "stream",
          "name": "stdout",
          "text": [
            "\n"
          ]
        }
      ]
    },
    {
      "cell_type": "code",
      "source": [
        "DATA_URL = \"/content/captcha-image-dataset/captchas\"\n",
        "train_dir = os.path.join(DATA_URL, \"train\")\n",
        "test_dir = os.path.join(DATA_URL, \"test\")"
      ],
      "metadata": {
        "id": "D4j7x11myRVY"
      },
      "execution_count": 4,
      "outputs": []
    },
    {
      "cell_type": "markdown",
      "source": [
        "# Data Preparation"
      ],
      "metadata": {
        "id": "fDCLZAAt8Y6R"
      }
    },
    {
      "cell_type": "code",
      "source": [
        "BATCH_SIZE = 64\n",
        "IMG_SIZE = (250,50)\n",
        "N_LABELS = 36\n",
        "D = 6 # number per image"
      ],
      "metadata": {
        "id": "a4GMqfHfSnRP"
      },
      "execution_count": 8,
      "outputs": []
    },
    {
      "cell_type": "markdown",
      "source": [
        "## Extract image data"
      ],
      "metadata": {
        "id": "f5X7RqEbNyId"
      }
    },
    {
      "cell_type": "code",
      "source": [
        "X_train = []\n",
        "y_train = []\n",
        "X_test = []\n",
        "y_test = []\n",
        "\n",
        "for filename in os.listdir(train_dir):\n",
        "  image_path = os.path.join(train_dir, filename)\n",
        "  image = Image.open(image_path)\n",
        "  image = np.array(image)\n",
        "  X_train.append(image)\n",
        "\n",
        "  label = os.path.splitext(filename.split('_')[1])[0].lower()\n",
        "  y_train.append(label)\n",
        "\n",
        "for filename in os.listdir(test_dir):\n",
        "  image_path = os.path.join(test_dir, filename)\n",
        "  image = Image.open(image_path)\n",
        "  image = np.array(image)\n",
        "  X_test.append(image)\n",
        "\n",
        "  label = os.path.splitext(filename.split('_')[1])[0].lower()\n",
        "  y_test.append(label)\n",
        "\n",
        "X_train = np.array(X_train)/255\n",
        "X_test = np.array(X_test)/255"
      ],
      "metadata": {
        "id": "ETv0zeMpSo_N"
      },
      "execution_count": 6,
      "outputs": []
    },
    {
      "cell_type": "code",
      "source": [
        "X_train_reshaped = np.array([np.transpose(img, (2,0,1)) for img in X_train])\n",
        "X_test_reshaped = np.array([np.transpose(img, (2,0,1)) for img in X_test])"
      ],
      "metadata": {
        "id": "eG_owAzzNz-C"
      },
      "execution_count": null,
      "outputs": []
    },
    {
      "cell_type": "code",
      "source": [
        "print(X_train_reshaped.shape)"
      ],
      "metadata": {
        "colab": {
          "base_uri": "https://localhost:8080/"
        },
        "id": "RM9PLJCBOLPU",
        "outputId": "29073d5b-123a-4bac-8bd2-0d0af79476f2"
      },
      "execution_count": null,
      "outputs": [
        {
          "output_type": "stream",
          "name": "stdout",
          "text": [
            "(8501, 3, 50, 250)\n"
          ]
        }
      ]
    },
    {
      "cell_type": "markdown",
      "source": [
        "## Label encoding"
      ],
      "metadata": {
        "id": "AfnpGtbnOeyv"
      }
    },
    {
      "cell_type": "code",
      "source": [
        "print(y_train[0], y_test[0])"
      ],
      "metadata": {
        "colab": {
          "base_uri": "https://localhost:8080/"
        },
        "id": "XnycrZqXOd9i",
        "outputId": "c91a40db-2aa5-46d1-d5bd-f8ce5d2f50db"
      },
      "execution_count": null,
      "outputs": [
        {
          "output_type": "stream",
          "name": "stdout",
          "text": [
            "tnkxfn hgxc6s\n"
          ]
        }
      ]
    },
    {
      "cell_type": "code",
      "source": [
        "charset = \"0123456789abcdefghijklmnopqrstuvwxyz\"\n",
        "chars_to_index = {char: i for i, char in enumerate(charset)}\n",
        "num_classes = len(charset)\n",
        "\n",
        "def labels_to_indices(label):\n",
        "  result = [chars_to_index[char] for char in label]\n",
        "  return result"
      ],
      "metadata": {
        "id": "se1gw30iOuku"
      },
      "execution_count": null,
      "outputs": []
    },
    {
      "cell_type": "code",
      "source": [
        "print(labels_to_indices(\"dxftup\"))"
      ],
      "metadata": {
        "colab": {
          "base_uri": "https://localhost:8080/"
        },
        "id": "CFbR9SFYSRS6",
        "outputId": "8e7e11e3-5e5c-4419-d37b-5e18d857b5c0"
      },
      "execution_count": null,
      "outputs": [
        {
          "output_type": "stream",
          "name": "stdout",
          "text": [
            "[13, 33, 15, 29, 30, 25]\n"
          ]
        }
      ]
    },
    {
      "cell_type": "code",
      "source": [
        "y_train_encoded = np.array([labels_to_indices(label) for label in y_train])\n",
        "y_test_encoded = np.array([labels_to_indices(label) for label in y_test])"
      ],
      "metadata": {
        "id": "MnxCDrL1Ss_P"
      },
      "execution_count": null,
      "outputs": []
    },
    {
      "cell_type": "code",
      "source": [
        "print(y_train_encoded[0])"
      ],
      "metadata": {
        "colab": {
          "base_uri": "https://localhost:8080/"
        },
        "id": "KJ3l0_aiTH8n",
        "outputId": "6df20018-ff63-4b6a-aa0b-a25f040c47b8"
      },
      "execution_count": null,
      "outputs": [
        {
          "output_type": "stream",
          "name": "stdout",
          "text": [
            "[29 23 20 33 15 23]\n"
          ]
        }
      ]
    },
    {
      "cell_type": "markdown",
      "source": [
        "np.transpose change 1D array to 2D array, example\n",
        "```[0, 1, 2, 3, 4, 5]```\n",
        "would be ```[[0],\n",
        " [1],\n",
        " [2],\n",
        " [3],\n",
        " [4],\n",
        " [5]]``` in 2D"
      ],
      "metadata": {
        "id": "lAyRVsYUUaUr"
      }
    },
    {
      "cell_type": "code",
      "source": [
        "print(np.transpose(y_train_encoded))"
      ],
      "metadata": {
        "colab": {
          "base_uri": "https://localhost:8080/"
        },
        "id": "DRjzrPtUTOes",
        "outputId": "653377b9-2b8a-481a-d984-cfb93538855b"
      },
      "execution_count": null,
      "outputs": [
        {
          "output_type": "stream",
          "name": "stdout",
          "text": [
            "[[29 25 33 ... 13 27 31]\n",
            " [23 16 23 ...  6 14 31]\n",
            " [20 10 23 ... 17 10 20]\n",
            " [33 31 15 ... 17 13 30]\n",
            " [15 11 35 ...  2 13 23]\n",
            " [23 14 16 ...  6 22 25]]\n"
          ]
        }
      ]
    },
    {
      "cell_type": "code",
      "source": [
        "y_train_1, y_train_2, y_train_3, y_train_4, y_train_5, y_train_6 = np.transpose(y_train_encoded)\n",
        "y_test_1, y_test_2, y_test_3, y_test_4, y_test_5, y_test_6 = np.transpose(y_test_encoded)"
      ],
      "metadata": {
        "id": "B6bGtYHDToJa"
      },
      "execution_count": null,
      "outputs": []
    },
    {
      "cell_type": "code",
      "source": [
        "train_dataset = tf.data.Dataset.from_tensor_slices((X_train_reshaped, (y_train_1, y_train_2, y_train_3, y_train_4, y_train_5, y_train_6)))\n",
        "train_dataset = train_dataset.batch(BATCH_SIZE).shuffle(buffer_size=1000)\n",
        "\n",
        "test_dataset = tf.data.Dataset.from_tensor_slices((X_test_reshaped, (y_test_1, y_test_2, y_test_3, y_test_4, y_test_5, y_test_6)))\n",
        "test_dataset = test_dataset.batch(BATCH_SIZE).shuffle(buffer_size=1000)"
      ],
      "metadata": {
        "id": "gjDDyn7YWbSW"
      },
      "execution_count": null,
      "outputs": []
    },
    {
      "cell_type": "code",
      "source": [
        "for data, labels in train_dataset:\n",
        "    # Access the data tensor\n",
        "    print(\"Data tensor shape:\", data.shape)\n",
        "\n",
        "    # Access the label tensors for each position\n",
        "    for i, label_tensor in enumerate(labels):\n",
        "        print(f\"Label tensor {i+1} shape:\", label_tensor.shape)"
      ],
      "metadata": {
        "id": "jipcxrdWZRJ3"
      },
      "execution_count": null,
      "outputs": []
    }
  ]
}