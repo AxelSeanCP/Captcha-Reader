{
  "nbformat": 4,
  "nbformat_minor": 0,
  "metadata": {
    "colab": {
      "provenance": [],
      "gpuType": "T4"
    },
    "kernelspec": {
      "name": "python3",
      "display_name": "Python 3"
    },
    "language_info": {
      "name": "python"
    },
    "accelerator": "GPU"
  },
  "cells": [
    {
      "cell_type": "markdown",
      "source": [
        "# Setup"
      ],
      "metadata": {
        "id": "xFNXmYkF8RJb"
      }
    },
    {
      "cell_type": "code",
      "execution_count": 1,
      "metadata": {
        "id": "OYdDIi_Uxl7c"
      },
      "outputs": [],
      "source": [
        "!pip install -q opendatasets"
      ]
    },
    {
      "cell_type": "markdown",
      "source": [
        "## Import libraries"
      ],
      "metadata": {
        "id": "0MoGD2LY8TEd"
      }
    },
    {
      "cell_type": "code",
      "source": [
        "import pandas as pd\n",
        "import opendatasets as od\n",
        "import numpy as np\n",
        "import os\n",
        "import tensorflow as tf\n",
        "from PIL import Image\n",
        "from tensorflow.keras.layers import Dense, Dropout, Conv2D, MaxPooling2D, Flatten, Reshape, Input, BatchNormalization, Concatenate\n",
        "from tensorflow.keras.models import Model"
      ],
      "metadata": {
        "id": "g3PTuugKxx0x"
      },
      "execution_count": 62,
      "outputs": []
    },
    {
      "cell_type": "markdown",
      "source": [
        "# Data Loading"
      ],
      "metadata": {
        "id": "n2Ps6IvD8VG3"
      }
    },
    {
      "cell_type": "code",
      "source": [
        "od.download(\"https://www.kaggle.com/datasets/johnbergmann/captcha-image-dataset\")"
      ],
      "metadata": {
        "colab": {
          "base_uri": "https://localhost:8080/"
        },
        "id": "qYre1L9yx2lA",
        "outputId": "3a4c61fd-6744-442d-82f1-4ea8b82e2043"
      },
      "execution_count": 3,
      "outputs": [
        {
          "output_type": "stream",
          "name": "stdout",
          "text": [
            "Dataset URL: https://www.kaggle.com/datasets/johnbergmann/captcha-image-dataset\n",
            "Downloading captcha-image-dataset.zip to ./captcha-image-dataset\n"
          ]
        },
        {
          "output_type": "stream",
          "name": "stderr",
          "text": [
            "100%|██████████| 39.5M/39.5M [00:04<00:00, 10.0MB/s]\n"
          ]
        },
        {
          "output_type": "stream",
          "name": "stdout",
          "text": [
            "\n"
          ]
        }
      ]
    },
    {
      "cell_type": "code",
      "source": [
        "DATA_URL = \"/content/captcha-image-dataset/captchas\"\n",
        "train_dir = os.path.join(DATA_URL, \"train\")\n",
        "test_dir = os.path.join(DATA_URL, \"test\")"
      ],
      "metadata": {
        "id": "D4j7x11myRVY"
      },
      "execution_count": 4,
      "outputs": []
    },
    {
      "cell_type": "markdown",
      "source": [
        "# Data Preparation"
      ],
      "metadata": {
        "id": "fDCLZAAt8Y6R"
      }
    },
    {
      "cell_type": "code",
      "source": [
        "BATCH_SIZE = 32\n",
        "IMG_SIZE = (250,50)\n",
        "N_LABELS = 36\n",
        "D = 6 # number per image"
      ],
      "metadata": {
        "id": "a4GMqfHfSnRP"
      },
      "execution_count": 69,
      "outputs": []
    },
    {
      "cell_type": "code",
      "source": [
        "files_train = []\n",
        "labels_train = []\n",
        "\n",
        "for filename in os.listdir(train_dir):\n",
        "  files_train.append(os.path.join(train_dir, filename))\n",
        "  labels_train.append(os.path.splitext(filename.split('_')[1])[0].lower())\n",
        "\n",
        "files_val = []\n",
        "labels_val = []\n",
        "\n",
        "for filename in os.listdir(test_dir):\n",
        "  files_val.append(os.path.join(test_dir, filename))\n",
        "  labels_val.append(os.path.splitext(filename.split('_')[1])[0].lower())"
      ],
      "metadata": {
        "id": "HIg-5XSI9Xgi"
      },
      "execution_count": 28,
      "outputs": []
    },
    {
      "cell_type": "code",
      "source": [
        "df_train = pd.DataFrame({'file': files_train, 'label': labels_train})\n",
        "df_val = pd.DataFrame({'file': files_val, 'label': labels_val})"
      ],
      "metadata": {
        "id": "E6IQcP3T81US"
      },
      "execution_count": 29,
      "outputs": []
    },
    {
      "cell_type": "code",
      "source": [
        "df_train.head()"
      ],
      "metadata": {
        "colab": {
          "base_uri": "https://localhost:8080/",
          "height": 206
        },
        "id": "XtAId42E-Lyw",
        "outputId": "f3ca5986-349d-4400-acb8-5f3cb07fa450"
      },
      "execution_count": 30,
      "outputs": [
        {
          "output_type": "execute_result",
          "data": {
            "text/plain": [
              "                                                file   label\n",
              "0  /content/captcha-image-dataset/captchas/train/...  hz2gfv\n",
              "1  /content/captcha-image-dataset/captchas/train/...  z2egx2\n",
              "2  /content/captcha-image-dataset/captchas/train/...  uzmddg\n",
              "3  /content/captcha-image-dataset/captchas/train/...  pgbdhv\n",
              "4  /content/captcha-image-dataset/captchas/train/...  edbsmp"
            ],
            "text/html": [
              "\n",
              "  <div id=\"df-5959ba3e-dd01-45f7-b838-01ae80c11f13\" class=\"colab-df-container\">\n",
              "    <div>\n",
              "<style scoped>\n",
              "    .dataframe tbody tr th:only-of-type {\n",
              "        vertical-align: middle;\n",
              "    }\n",
              "\n",
              "    .dataframe tbody tr th {\n",
              "        vertical-align: top;\n",
              "    }\n",
              "\n",
              "    .dataframe thead th {\n",
              "        text-align: right;\n",
              "    }\n",
              "</style>\n",
              "<table border=\"1\" class=\"dataframe\">\n",
              "  <thead>\n",
              "    <tr style=\"text-align: right;\">\n",
              "      <th></th>\n",
              "      <th>file</th>\n",
              "      <th>label</th>\n",
              "    </tr>\n",
              "  </thead>\n",
              "  <tbody>\n",
              "    <tr>\n",
              "      <th>0</th>\n",
              "      <td>/content/captcha-image-dataset/captchas/train/...</td>\n",
              "      <td>hz2gfv</td>\n",
              "    </tr>\n",
              "    <tr>\n",
              "      <th>1</th>\n",
              "      <td>/content/captcha-image-dataset/captchas/train/...</td>\n",
              "      <td>z2egx2</td>\n",
              "    </tr>\n",
              "    <tr>\n",
              "      <th>2</th>\n",
              "      <td>/content/captcha-image-dataset/captchas/train/...</td>\n",
              "      <td>uzmddg</td>\n",
              "    </tr>\n",
              "    <tr>\n",
              "      <th>3</th>\n",
              "      <td>/content/captcha-image-dataset/captchas/train/...</td>\n",
              "      <td>pgbdhv</td>\n",
              "    </tr>\n",
              "    <tr>\n",
              "      <th>4</th>\n",
              "      <td>/content/captcha-image-dataset/captchas/train/...</td>\n",
              "      <td>edbsmp</td>\n",
              "    </tr>\n",
              "  </tbody>\n",
              "</table>\n",
              "</div>\n",
              "    <div class=\"colab-df-buttons\">\n",
              "\n",
              "  <div class=\"colab-df-container\">\n",
              "    <button class=\"colab-df-convert\" onclick=\"convertToInteractive('df-5959ba3e-dd01-45f7-b838-01ae80c11f13')\"\n",
              "            title=\"Convert this dataframe to an interactive table.\"\n",
              "            style=\"display:none;\">\n",
              "\n",
              "  <svg xmlns=\"http://www.w3.org/2000/svg\" height=\"24px\" viewBox=\"0 -960 960 960\">\n",
              "    <path d=\"M120-120v-720h720v720H120Zm60-500h600v-160H180v160Zm220 220h160v-160H400v160Zm0 220h160v-160H400v160ZM180-400h160v-160H180v160Zm440 0h160v-160H620v160ZM180-180h160v-160H180v160Zm440 0h160v-160H620v160Z\"/>\n",
              "  </svg>\n",
              "    </button>\n",
              "\n",
              "  <style>\n",
              "    .colab-df-container {\n",
              "      display:flex;\n",
              "      gap: 12px;\n",
              "    }\n",
              "\n",
              "    .colab-df-convert {\n",
              "      background-color: #E8F0FE;\n",
              "      border: none;\n",
              "      border-radius: 50%;\n",
              "      cursor: pointer;\n",
              "      display: none;\n",
              "      fill: #1967D2;\n",
              "      height: 32px;\n",
              "      padding: 0 0 0 0;\n",
              "      width: 32px;\n",
              "    }\n",
              "\n",
              "    .colab-df-convert:hover {\n",
              "      background-color: #E2EBFA;\n",
              "      box-shadow: 0px 1px 2px rgba(60, 64, 67, 0.3), 0px 1px 3px 1px rgba(60, 64, 67, 0.15);\n",
              "      fill: #174EA6;\n",
              "    }\n",
              "\n",
              "    .colab-df-buttons div {\n",
              "      margin-bottom: 4px;\n",
              "    }\n",
              "\n",
              "    [theme=dark] .colab-df-convert {\n",
              "      background-color: #3B4455;\n",
              "      fill: #D2E3FC;\n",
              "    }\n",
              "\n",
              "    [theme=dark] .colab-df-convert:hover {\n",
              "      background-color: #434B5C;\n",
              "      box-shadow: 0px 1px 3px 1px rgba(0, 0, 0, 0.15);\n",
              "      filter: drop-shadow(0px 1px 2px rgba(0, 0, 0, 0.3));\n",
              "      fill: #FFFFFF;\n",
              "    }\n",
              "  </style>\n",
              "\n",
              "    <script>\n",
              "      const buttonEl =\n",
              "        document.querySelector('#df-5959ba3e-dd01-45f7-b838-01ae80c11f13 button.colab-df-convert');\n",
              "      buttonEl.style.display =\n",
              "        google.colab.kernel.accessAllowed ? 'block' : 'none';\n",
              "\n",
              "      async function convertToInteractive(key) {\n",
              "        const element = document.querySelector('#df-5959ba3e-dd01-45f7-b838-01ae80c11f13');\n",
              "        const dataTable =\n",
              "          await google.colab.kernel.invokeFunction('convertToInteractive',\n",
              "                                                    [key], {});\n",
              "        if (!dataTable) return;\n",
              "\n",
              "        const docLinkHtml = 'Like what you see? Visit the ' +\n",
              "          '<a target=\"_blank\" href=https://colab.research.google.com/notebooks/data_table.ipynb>data table notebook</a>'\n",
              "          + ' to learn more about interactive tables.';\n",
              "        element.innerHTML = '';\n",
              "        dataTable['output_type'] = 'display_data';\n",
              "        await google.colab.output.renderOutput(dataTable, element);\n",
              "        const docLink = document.createElement('div');\n",
              "        docLink.innerHTML = docLinkHtml;\n",
              "        element.appendChild(docLink);\n",
              "      }\n",
              "    </script>\n",
              "  </div>\n",
              "\n",
              "\n",
              "<div id=\"df-61e47b6c-60fb-40a7-9592-6101af098d1b\">\n",
              "  <button class=\"colab-df-quickchart\" onclick=\"quickchart('df-61e47b6c-60fb-40a7-9592-6101af098d1b')\"\n",
              "            title=\"Suggest charts\"\n",
              "            style=\"display:none;\">\n",
              "\n",
              "<svg xmlns=\"http://www.w3.org/2000/svg\" height=\"24px\"viewBox=\"0 0 24 24\"\n",
              "     width=\"24px\">\n",
              "    <g>\n",
              "        <path d=\"M19 3H5c-1.1 0-2 .9-2 2v14c0 1.1.9 2 2 2h14c1.1 0 2-.9 2-2V5c0-1.1-.9-2-2-2zM9 17H7v-7h2v7zm4 0h-2V7h2v10zm4 0h-2v-4h2v4z\"/>\n",
              "    </g>\n",
              "</svg>\n",
              "  </button>\n",
              "\n",
              "<style>\n",
              "  .colab-df-quickchart {\n",
              "      --bg-color: #E8F0FE;\n",
              "      --fill-color: #1967D2;\n",
              "      --hover-bg-color: #E2EBFA;\n",
              "      --hover-fill-color: #174EA6;\n",
              "      --disabled-fill-color: #AAA;\n",
              "      --disabled-bg-color: #DDD;\n",
              "  }\n",
              "\n",
              "  [theme=dark] .colab-df-quickchart {\n",
              "      --bg-color: #3B4455;\n",
              "      --fill-color: #D2E3FC;\n",
              "      --hover-bg-color: #434B5C;\n",
              "      --hover-fill-color: #FFFFFF;\n",
              "      --disabled-bg-color: #3B4455;\n",
              "      --disabled-fill-color: #666;\n",
              "  }\n",
              "\n",
              "  .colab-df-quickchart {\n",
              "    background-color: var(--bg-color);\n",
              "    border: none;\n",
              "    border-radius: 50%;\n",
              "    cursor: pointer;\n",
              "    display: none;\n",
              "    fill: var(--fill-color);\n",
              "    height: 32px;\n",
              "    padding: 0;\n",
              "    width: 32px;\n",
              "  }\n",
              "\n",
              "  .colab-df-quickchart:hover {\n",
              "    background-color: var(--hover-bg-color);\n",
              "    box-shadow: 0 1px 2px rgba(60, 64, 67, 0.3), 0 1px 3px 1px rgba(60, 64, 67, 0.15);\n",
              "    fill: var(--button-hover-fill-color);\n",
              "  }\n",
              "\n",
              "  .colab-df-quickchart-complete:disabled,\n",
              "  .colab-df-quickchart-complete:disabled:hover {\n",
              "    background-color: var(--disabled-bg-color);\n",
              "    fill: var(--disabled-fill-color);\n",
              "    box-shadow: none;\n",
              "  }\n",
              "\n",
              "  .colab-df-spinner {\n",
              "    border: 2px solid var(--fill-color);\n",
              "    border-color: transparent;\n",
              "    border-bottom-color: var(--fill-color);\n",
              "    animation:\n",
              "      spin 1s steps(1) infinite;\n",
              "  }\n",
              "\n",
              "  @keyframes spin {\n",
              "    0% {\n",
              "      border-color: transparent;\n",
              "      border-bottom-color: var(--fill-color);\n",
              "      border-left-color: var(--fill-color);\n",
              "    }\n",
              "    20% {\n",
              "      border-color: transparent;\n",
              "      border-left-color: var(--fill-color);\n",
              "      border-top-color: var(--fill-color);\n",
              "    }\n",
              "    30% {\n",
              "      border-color: transparent;\n",
              "      border-left-color: var(--fill-color);\n",
              "      border-top-color: var(--fill-color);\n",
              "      border-right-color: var(--fill-color);\n",
              "    }\n",
              "    40% {\n",
              "      border-color: transparent;\n",
              "      border-right-color: var(--fill-color);\n",
              "      border-top-color: var(--fill-color);\n",
              "    }\n",
              "    60% {\n",
              "      border-color: transparent;\n",
              "      border-right-color: var(--fill-color);\n",
              "    }\n",
              "    80% {\n",
              "      border-color: transparent;\n",
              "      border-right-color: var(--fill-color);\n",
              "      border-bottom-color: var(--fill-color);\n",
              "    }\n",
              "    90% {\n",
              "      border-color: transparent;\n",
              "      border-bottom-color: var(--fill-color);\n",
              "    }\n",
              "  }\n",
              "</style>\n",
              "\n",
              "  <script>\n",
              "    async function quickchart(key) {\n",
              "      const quickchartButtonEl =\n",
              "        document.querySelector('#' + key + ' button');\n",
              "      quickchartButtonEl.disabled = true;  // To prevent multiple clicks.\n",
              "      quickchartButtonEl.classList.add('colab-df-spinner');\n",
              "      try {\n",
              "        const charts = await google.colab.kernel.invokeFunction(\n",
              "            'suggestCharts', [key], {});\n",
              "      } catch (error) {\n",
              "        console.error('Error during call to suggestCharts:', error);\n",
              "      }\n",
              "      quickchartButtonEl.classList.remove('colab-df-spinner');\n",
              "      quickchartButtonEl.classList.add('colab-df-quickchart-complete');\n",
              "    }\n",
              "    (() => {\n",
              "      let quickchartButtonEl =\n",
              "        document.querySelector('#df-61e47b6c-60fb-40a7-9592-6101af098d1b button');\n",
              "      quickchartButtonEl.style.display =\n",
              "        google.colab.kernel.accessAllowed ? 'block' : 'none';\n",
              "    })();\n",
              "  </script>\n",
              "</div>\n",
              "\n",
              "    </div>\n",
              "  </div>\n"
            ],
            "application/vnd.google.colaboratory.intrinsic+json": {
              "type": "dataframe",
              "variable_name": "df_train",
              "summary": "{\n  \"name\": \"df_train\",\n  \"rows\": 8501,\n  \"fields\": [\n    {\n      \"column\": \"file\",\n      \"properties\": {\n        \"dtype\": \"string\",\n        \"num_unique_values\": 8501,\n        \"samples\": [\n          \"/content/captcha-image-dataset/captchas/train/4741_fexnx2.jpeg\",\n          \"/content/captcha-image-dataset/captchas/train/6951_ntbatv.jpeg\",\n          \"/content/captcha-image-dataset/captchas/train/4925_ftg2cv.jpeg\"\n        ],\n        \"semantic_type\": \"\",\n        \"description\": \"\"\n      }\n    },\n    {\n      \"column\": \"label\",\n      \"properties\": {\n        \"dtype\": \"string\",\n        \"num_unique_values\": 7390,\n        \"samples\": [\n          \"xhcptm\",\n          \"ak2ttz\",\n          \"6em2ng\"\n        ],\n        \"semantic_type\": \"\",\n        \"description\": \"\"\n      }\n    }\n  ]\n}"
            }
          },
          "metadata": {},
          "execution_count": 30
        }
      ]
    },
    {
      "cell_type": "markdown",
      "source": [
        "## Label Encoding"
      ],
      "metadata": {
        "id": "hJ37erI__tBU"
      }
    },
    {
      "cell_type": "code",
      "source": [
        "charset = \"0123456789abcdefghijklmnopqrstuvwxyz\"\n",
        "chars_to_index = {char: i for i, char in enumerate(charset)}\n",
        "index_to_chars = {i: char for i, char in enumerate(charset)}"
      ],
      "metadata": {
        "id": "dMnZcfEj-R70"
      },
      "execution_count": 106,
      "outputs": []
    },
    {
      "cell_type": "code",
      "source": [
        "def labels_to_indices(label):\n",
        "  result = [chars_to_index[char] for char in label]\n",
        "  return result\n",
        "\n",
        "def indices_to_labels(indices):\n",
        "  result = [index_to_chars[i] for i in indices]\n",
        "  return ''.join(result)"
      ],
      "metadata": {
        "id": "nwvOdooPAAP_"
      },
      "execution_count": 107,
      "outputs": []
    },
    {
      "cell_type": "code",
      "source": [
        "label_1 = []\n",
        "label_2 = []\n",
        "label_3 = []\n",
        "label_4 = []\n",
        "label_5 = []\n",
        "label_6 = []\n",
        "\n",
        "for label in df_train['label']:\n",
        "  l1, l2, l3, l4, l5, l6 = labels_to_indices(label)\n",
        "  label_1.append(l1)\n",
        "  label_2.append(l2)\n",
        "  label_3.append(l3)\n",
        "  label_4.append(l4)\n",
        "  label_5.append(l5)\n",
        "  label_6.append(l6)\n",
        "\n",
        "df_train['label_1'] = label_1\n",
        "df_train['label_2'] = label_2\n",
        "df_train['label_3'] = label_3\n",
        "df_train['label_4'] = label_4\n",
        "df_train['label_5'] = label_5\n",
        "df_train['label_6'] = label_6"
      ],
      "metadata": {
        "id": "ZadsV0hwC3dI"
      },
      "execution_count": 33,
      "outputs": []
    },
    {
      "cell_type": "code",
      "source": [
        "label_1 = []\n",
        "label_2 = []\n",
        "label_3 = []\n",
        "label_4 = []\n",
        "label_5 = []\n",
        "label_6 = []\n",
        "\n",
        "for label in df_val['label']:\n",
        "  l1, l2, l3, l4, l5, l6 = labels_to_indices(label)\n",
        "  label_1.append(l1)\n",
        "  label_2.append(l2)\n",
        "  label_3.append(l3)\n",
        "  label_4.append(l4)\n",
        "  label_5.append(l5)\n",
        "  label_6.append(l6)\n",
        "\n",
        "df_val['label_1'] = label_1\n",
        "df_val['label_2'] = label_2\n",
        "df_val['label_3'] = label_3\n",
        "df_val['label_4'] = label_4\n",
        "df_val['label_5'] = label_5\n",
        "df_val['label_6'] = label_6"
      ],
      "metadata": {
        "id": "43FZU-1VcH1x"
      },
      "execution_count": 34,
      "outputs": []
    },
    {
      "cell_type": "code",
      "source": [
        "df_train.drop(columns='label', inplace=True)\n",
        "df_val.drop(columns='label', inplace=True)"
      ],
      "metadata": {
        "id": "zs2J-AbDGpdv"
      },
      "execution_count": 35,
      "outputs": []
    },
    {
      "cell_type": "code",
      "source": [
        "df_train.head()"
      ],
      "metadata": {
        "colab": {
          "base_uri": "https://localhost:8080/",
          "height": 206
        },
        "id": "wbfDicAzEOwP",
        "outputId": "a6de28bb-83d8-4949-e77c-878e7f5d7a3c"
      },
      "execution_count": 36,
      "outputs": [
        {
          "output_type": "execute_result",
          "data": {
            "text/plain": [
              "                                                file  label_1  label_2  \\\n",
              "0  /content/captcha-image-dataset/captchas/train/...       17       35   \n",
              "1  /content/captcha-image-dataset/captchas/train/...       35        2   \n",
              "2  /content/captcha-image-dataset/captchas/train/...       30       35   \n",
              "3  /content/captcha-image-dataset/captchas/train/...       25       16   \n",
              "4  /content/captcha-image-dataset/captchas/train/...       14       13   \n",
              "\n",
              "   label_3  label_4  label_5  label_6  \n",
              "0        2       16       15       31  \n",
              "1       14       16       33        2  \n",
              "2       22       13       13       16  \n",
              "3       11       13       17       31  \n",
              "4       11       28       22       25  "
            ],
            "text/html": [
              "\n",
              "  <div id=\"df-0e94eddb-c832-4064-a075-39b47ab9e752\" class=\"colab-df-container\">\n",
              "    <div>\n",
              "<style scoped>\n",
              "    .dataframe tbody tr th:only-of-type {\n",
              "        vertical-align: middle;\n",
              "    }\n",
              "\n",
              "    .dataframe tbody tr th {\n",
              "        vertical-align: top;\n",
              "    }\n",
              "\n",
              "    .dataframe thead th {\n",
              "        text-align: right;\n",
              "    }\n",
              "</style>\n",
              "<table border=\"1\" class=\"dataframe\">\n",
              "  <thead>\n",
              "    <tr style=\"text-align: right;\">\n",
              "      <th></th>\n",
              "      <th>file</th>\n",
              "      <th>label_1</th>\n",
              "      <th>label_2</th>\n",
              "      <th>label_3</th>\n",
              "      <th>label_4</th>\n",
              "      <th>label_5</th>\n",
              "      <th>label_6</th>\n",
              "    </tr>\n",
              "  </thead>\n",
              "  <tbody>\n",
              "    <tr>\n",
              "      <th>0</th>\n",
              "      <td>/content/captcha-image-dataset/captchas/train/...</td>\n",
              "      <td>17</td>\n",
              "      <td>35</td>\n",
              "      <td>2</td>\n",
              "      <td>16</td>\n",
              "      <td>15</td>\n",
              "      <td>31</td>\n",
              "    </tr>\n",
              "    <tr>\n",
              "      <th>1</th>\n",
              "      <td>/content/captcha-image-dataset/captchas/train/...</td>\n",
              "      <td>35</td>\n",
              "      <td>2</td>\n",
              "      <td>14</td>\n",
              "      <td>16</td>\n",
              "      <td>33</td>\n",
              "      <td>2</td>\n",
              "    </tr>\n",
              "    <tr>\n",
              "      <th>2</th>\n",
              "      <td>/content/captcha-image-dataset/captchas/train/...</td>\n",
              "      <td>30</td>\n",
              "      <td>35</td>\n",
              "      <td>22</td>\n",
              "      <td>13</td>\n",
              "      <td>13</td>\n",
              "      <td>16</td>\n",
              "    </tr>\n",
              "    <tr>\n",
              "      <th>3</th>\n",
              "      <td>/content/captcha-image-dataset/captchas/train/...</td>\n",
              "      <td>25</td>\n",
              "      <td>16</td>\n",
              "      <td>11</td>\n",
              "      <td>13</td>\n",
              "      <td>17</td>\n",
              "      <td>31</td>\n",
              "    </tr>\n",
              "    <tr>\n",
              "      <th>4</th>\n",
              "      <td>/content/captcha-image-dataset/captchas/train/...</td>\n",
              "      <td>14</td>\n",
              "      <td>13</td>\n",
              "      <td>11</td>\n",
              "      <td>28</td>\n",
              "      <td>22</td>\n",
              "      <td>25</td>\n",
              "    </tr>\n",
              "  </tbody>\n",
              "</table>\n",
              "</div>\n",
              "    <div class=\"colab-df-buttons\">\n",
              "\n",
              "  <div class=\"colab-df-container\">\n",
              "    <button class=\"colab-df-convert\" onclick=\"convertToInteractive('df-0e94eddb-c832-4064-a075-39b47ab9e752')\"\n",
              "            title=\"Convert this dataframe to an interactive table.\"\n",
              "            style=\"display:none;\">\n",
              "\n",
              "  <svg xmlns=\"http://www.w3.org/2000/svg\" height=\"24px\" viewBox=\"0 -960 960 960\">\n",
              "    <path d=\"M120-120v-720h720v720H120Zm60-500h600v-160H180v160Zm220 220h160v-160H400v160Zm0 220h160v-160H400v160ZM180-400h160v-160H180v160Zm440 0h160v-160H620v160ZM180-180h160v-160H180v160Zm440 0h160v-160H620v160Z\"/>\n",
              "  </svg>\n",
              "    </button>\n",
              "\n",
              "  <style>\n",
              "    .colab-df-container {\n",
              "      display:flex;\n",
              "      gap: 12px;\n",
              "    }\n",
              "\n",
              "    .colab-df-convert {\n",
              "      background-color: #E8F0FE;\n",
              "      border: none;\n",
              "      border-radius: 50%;\n",
              "      cursor: pointer;\n",
              "      display: none;\n",
              "      fill: #1967D2;\n",
              "      height: 32px;\n",
              "      padding: 0 0 0 0;\n",
              "      width: 32px;\n",
              "    }\n",
              "\n",
              "    .colab-df-convert:hover {\n",
              "      background-color: #E2EBFA;\n",
              "      box-shadow: 0px 1px 2px rgba(60, 64, 67, 0.3), 0px 1px 3px 1px rgba(60, 64, 67, 0.15);\n",
              "      fill: #174EA6;\n",
              "    }\n",
              "\n",
              "    .colab-df-buttons div {\n",
              "      margin-bottom: 4px;\n",
              "    }\n",
              "\n",
              "    [theme=dark] .colab-df-convert {\n",
              "      background-color: #3B4455;\n",
              "      fill: #D2E3FC;\n",
              "    }\n",
              "\n",
              "    [theme=dark] .colab-df-convert:hover {\n",
              "      background-color: #434B5C;\n",
              "      box-shadow: 0px 1px 3px 1px rgba(0, 0, 0, 0.15);\n",
              "      filter: drop-shadow(0px 1px 2px rgba(0, 0, 0, 0.3));\n",
              "      fill: #FFFFFF;\n",
              "    }\n",
              "  </style>\n",
              "\n",
              "    <script>\n",
              "      const buttonEl =\n",
              "        document.querySelector('#df-0e94eddb-c832-4064-a075-39b47ab9e752 button.colab-df-convert');\n",
              "      buttonEl.style.display =\n",
              "        google.colab.kernel.accessAllowed ? 'block' : 'none';\n",
              "\n",
              "      async function convertToInteractive(key) {\n",
              "        const element = document.querySelector('#df-0e94eddb-c832-4064-a075-39b47ab9e752');\n",
              "        const dataTable =\n",
              "          await google.colab.kernel.invokeFunction('convertToInteractive',\n",
              "                                                    [key], {});\n",
              "        if (!dataTable) return;\n",
              "\n",
              "        const docLinkHtml = 'Like what you see? Visit the ' +\n",
              "          '<a target=\"_blank\" href=https://colab.research.google.com/notebooks/data_table.ipynb>data table notebook</a>'\n",
              "          + ' to learn more about interactive tables.';\n",
              "        element.innerHTML = '';\n",
              "        dataTable['output_type'] = 'display_data';\n",
              "        await google.colab.output.renderOutput(dataTable, element);\n",
              "        const docLink = document.createElement('div');\n",
              "        docLink.innerHTML = docLinkHtml;\n",
              "        element.appendChild(docLink);\n",
              "      }\n",
              "    </script>\n",
              "  </div>\n",
              "\n",
              "\n",
              "<div id=\"df-6c380971-700f-4e6b-a3f5-77a8e0b3b913\">\n",
              "  <button class=\"colab-df-quickchart\" onclick=\"quickchart('df-6c380971-700f-4e6b-a3f5-77a8e0b3b913')\"\n",
              "            title=\"Suggest charts\"\n",
              "            style=\"display:none;\">\n",
              "\n",
              "<svg xmlns=\"http://www.w3.org/2000/svg\" height=\"24px\"viewBox=\"0 0 24 24\"\n",
              "     width=\"24px\">\n",
              "    <g>\n",
              "        <path d=\"M19 3H5c-1.1 0-2 .9-2 2v14c0 1.1.9 2 2 2h14c1.1 0 2-.9 2-2V5c0-1.1-.9-2-2-2zM9 17H7v-7h2v7zm4 0h-2V7h2v10zm4 0h-2v-4h2v4z\"/>\n",
              "    </g>\n",
              "</svg>\n",
              "  </button>\n",
              "\n",
              "<style>\n",
              "  .colab-df-quickchart {\n",
              "      --bg-color: #E8F0FE;\n",
              "      --fill-color: #1967D2;\n",
              "      --hover-bg-color: #E2EBFA;\n",
              "      --hover-fill-color: #174EA6;\n",
              "      --disabled-fill-color: #AAA;\n",
              "      --disabled-bg-color: #DDD;\n",
              "  }\n",
              "\n",
              "  [theme=dark] .colab-df-quickchart {\n",
              "      --bg-color: #3B4455;\n",
              "      --fill-color: #D2E3FC;\n",
              "      --hover-bg-color: #434B5C;\n",
              "      --hover-fill-color: #FFFFFF;\n",
              "      --disabled-bg-color: #3B4455;\n",
              "      --disabled-fill-color: #666;\n",
              "  }\n",
              "\n",
              "  .colab-df-quickchart {\n",
              "    background-color: var(--bg-color);\n",
              "    border: none;\n",
              "    border-radius: 50%;\n",
              "    cursor: pointer;\n",
              "    display: none;\n",
              "    fill: var(--fill-color);\n",
              "    height: 32px;\n",
              "    padding: 0;\n",
              "    width: 32px;\n",
              "  }\n",
              "\n",
              "  .colab-df-quickchart:hover {\n",
              "    background-color: var(--hover-bg-color);\n",
              "    box-shadow: 0 1px 2px rgba(60, 64, 67, 0.3), 0 1px 3px 1px rgba(60, 64, 67, 0.15);\n",
              "    fill: var(--button-hover-fill-color);\n",
              "  }\n",
              "\n",
              "  .colab-df-quickchart-complete:disabled,\n",
              "  .colab-df-quickchart-complete:disabled:hover {\n",
              "    background-color: var(--disabled-bg-color);\n",
              "    fill: var(--disabled-fill-color);\n",
              "    box-shadow: none;\n",
              "  }\n",
              "\n",
              "  .colab-df-spinner {\n",
              "    border: 2px solid var(--fill-color);\n",
              "    border-color: transparent;\n",
              "    border-bottom-color: var(--fill-color);\n",
              "    animation:\n",
              "      spin 1s steps(1) infinite;\n",
              "  }\n",
              "\n",
              "  @keyframes spin {\n",
              "    0% {\n",
              "      border-color: transparent;\n",
              "      border-bottom-color: var(--fill-color);\n",
              "      border-left-color: var(--fill-color);\n",
              "    }\n",
              "    20% {\n",
              "      border-color: transparent;\n",
              "      border-left-color: var(--fill-color);\n",
              "      border-top-color: var(--fill-color);\n",
              "    }\n",
              "    30% {\n",
              "      border-color: transparent;\n",
              "      border-left-color: var(--fill-color);\n",
              "      border-top-color: var(--fill-color);\n",
              "      border-right-color: var(--fill-color);\n",
              "    }\n",
              "    40% {\n",
              "      border-color: transparent;\n",
              "      border-right-color: var(--fill-color);\n",
              "      border-top-color: var(--fill-color);\n",
              "    }\n",
              "    60% {\n",
              "      border-color: transparent;\n",
              "      border-right-color: var(--fill-color);\n",
              "    }\n",
              "    80% {\n",
              "      border-color: transparent;\n",
              "      border-right-color: var(--fill-color);\n",
              "      border-bottom-color: var(--fill-color);\n",
              "    }\n",
              "    90% {\n",
              "      border-color: transparent;\n",
              "      border-bottom-color: var(--fill-color);\n",
              "    }\n",
              "  }\n",
              "</style>\n",
              "\n",
              "  <script>\n",
              "    async function quickchart(key) {\n",
              "      const quickchartButtonEl =\n",
              "        document.querySelector('#' + key + ' button');\n",
              "      quickchartButtonEl.disabled = true;  // To prevent multiple clicks.\n",
              "      quickchartButtonEl.classList.add('colab-df-spinner');\n",
              "      try {\n",
              "        const charts = await google.colab.kernel.invokeFunction(\n",
              "            'suggestCharts', [key], {});\n",
              "      } catch (error) {\n",
              "        console.error('Error during call to suggestCharts:', error);\n",
              "      }\n",
              "      quickchartButtonEl.classList.remove('colab-df-spinner');\n",
              "      quickchartButtonEl.classList.add('colab-df-quickchart-complete');\n",
              "    }\n",
              "    (() => {\n",
              "      let quickchartButtonEl =\n",
              "        document.querySelector('#df-6c380971-700f-4e6b-a3f5-77a8e0b3b913 button');\n",
              "      quickchartButtonEl.style.display =\n",
              "        google.colab.kernel.accessAllowed ? 'block' : 'none';\n",
              "    })();\n",
              "  </script>\n",
              "</div>\n",
              "\n",
              "    </div>\n",
              "  </div>\n"
            ],
            "application/vnd.google.colaboratory.intrinsic+json": {
              "type": "dataframe",
              "variable_name": "df_train",
              "summary": "{\n  \"name\": \"df_train\",\n  \"rows\": 8501,\n  \"fields\": [\n    {\n      \"column\": \"file\",\n      \"properties\": {\n        \"dtype\": \"string\",\n        \"num_unique_values\": 8501,\n        \"samples\": [\n          \"/content/captcha-image-dataset/captchas/train/4741_fexnx2.jpeg\",\n          \"/content/captcha-image-dataset/captchas/train/6951_ntbatv.jpeg\",\n          \"/content/captcha-image-dataset/captchas/train/4925_ftg2cv.jpeg\"\n        ],\n        \"semantic_type\": \"\",\n        \"description\": \"\"\n      }\n    },\n    {\n      \"column\": \"label_1\",\n      \"properties\": {\n        \"dtype\": \"number\",\n        \"std\": 9,\n        \"min\": 2,\n        \"max\": 35,\n        \"num_unique_values\": 21,\n        \"samples\": [\n          17,\n          29,\n          31\n        ],\n        \"semantic_type\": \"\",\n        \"description\": \"\"\n      }\n    },\n    {\n      \"column\": \"label_2\",\n      \"properties\": {\n        \"dtype\": \"number\",\n        \"std\": 9,\n        \"min\": 2,\n        \"max\": 35,\n        \"num_unique_values\": 21,\n        \"samples\": [\n          35,\n          27,\n          15\n        ],\n        \"semantic_type\": \"\",\n        \"description\": \"\"\n      }\n    },\n    {\n      \"column\": \"label_3\",\n      \"properties\": {\n        \"dtype\": \"number\",\n        \"std\": 9,\n        \"min\": 2,\n        \"max\": 35,\n        \"num_unique_values\": 21,\n        \"samples\": [\n          2,\n          31,\n          33\n        ],\n        \"semantic_type\": \"\",\n        \"description\": \"\"\n      }\n    },\n    {\n      \"column\": \"label_4\",\n      \"properties\": {\n        \"dtype\": \"number\",\n        \"std\": 9,\n        \"min\": 2,\n        \"max\": 35,\n        \"num_unique_values\": 21,\n        \"samples\": [\n          16,\n          14,\n          11\n        ],\n        \"semantic_type\": \"\",\n        \"description\": \"\"\n      }\n    },\n    {\n      \"column\": \"label_5\",\n      \"properties\": {\n        \"dtype\": \"number\",\n        \"std\": 9,\n        \"min\": 2,\n        \"max\": 35,\n        \"num_unique_values\": 21,\n        \"samples\": [\n          15,\n          6,\n          14\n        ],\n        \"semantic_type\": \"\",\n        \"description\": \"\"\n      }\n    },\n    {\n      \"column\": \"label_6\",\n      \"properties\": {\n        \"dtype\": \"number\",\n        \"std\": 9,\n        \"min\": 2,\n        \"max\": 35,\n        \"num_unique_values\": 21,\n        \"samples\": [\n          31,\n          30,\n          28\n        ],\n        \"semantic_type\": \"\",\n        \"description\": \"\"\n      }\n    }\n  ]\n}"
            }
          },
          "metadata": {},
          "execution_count": 36
        }
      ]
    },
    {
      "cell_type": "markdown",
      "source": [
        "## Image processing"
      ],
      "metadata": {
        "id": "znIkdlU-K9yg"
      }
    },
    {
      "cell_type": "code",
      "source": [
        "X_train = []\n",
        "X_val = []\n",
        "\n",
        "for filepath in df_train['file']:\n",
        "  img = Image.open(filepath)\n",
        "  img = np.array(img)\n",
        "  X_train.append(img)\n",
        "\n",
        "X_train = np.array(X_train)\n",
        "\n",
        "for filepath in df_val['file']:\n",
        "  img = Image.open(filepath)\n",
        "  img = np.array(img)\n",
        "  X_val.append(img)\n",
        "\n",
        "X_val = np.array(X_val)"
      ],
      "metadata": {
        "id": "UPT4EwjBK9pT"
      },
      "execution_count": 37,
      "outputs": []
    },
    {
      "cell_type": "markdown",
      "source": [
        "## Create tf dataset"
      ],
      "metadata": {
        "id": "A48ASARvn6Bq"
      }
    },
    {
      "cell_type": "code",
      "source": [
        "from tensorflow.keras.utils import to_categorical\n",
        "\n",
        "def one_hot_encode_labels(df):\n",
        "  labels = []\n",
        "  for i in range(1, 7):\n",
        "    labels.append(to_categorical(df[f'label_{i}'], num_classes=N_LABELS))\n",
        "  return np.array(labels).transpose((1,0,2))\n",
        "\n",
        "train_labels = one_hot_encode_labels(df_train)\n",
        "val_labels = one_hot_encode_labels(df_val)\n",
        "\n",
        "train_dataset = tf.data.Dataset.from_tensor_slices((\n",
        "  X_train, {f'output_{i+1}': train_labels[:, i] for i in range(6)}\n",
        ")).shuffle(buffer_size=1000).batch(BATCH_SIZE)\n",
        "val_dataset = tf.data.Dataset.from_tensor_slices((\n",
        "  X_val, {f'output_{i+1}': val_labels[:, i] for i in range(6)}\n",
        ")).shuffle(buffer_size=1000).batch(BATCH_SIZE)"
      ],
      "metadata": {
        "id": "uuPF87cdY7rg"
      },
      "execution_count": 78,
      "outputs": []
    },
    {
      "cell_type": "code",
      "source": [
        "for features, labels in train_dataset.take(1):\n",
        "    print(\"Batch shape:\", features.shape)\n",
        "    print(\"First image shape:\", features[0].shape)\n",
        "    print(\"First labels:\", labels)"
      ],
      "metadata": {
        "colab": {
          "base_uri": "https://localhost:8080/"
        },
        "id": "p5gJXSo8ldbs",
        "outputId": "7ff7fafa-e525-4ecc-a831-29f06160e845"
      },
      "execution_count": 82,
      "outputs": [
        {
          "output_type": "stream",
          "name": "stdout",
          "text": [
            "Batch shape: (32, 50, 250, 3)\n",
            "First image shape: (50, 250, 3)\n",
            "First labels: {'output_1': <tf.Tensor: shape=(32, 36), dtype=float32, numpy=\n",
            "array([[0., 0., 1., ..., 0., 0., 0.],\n",
            "       [0., 0., 0., ..., 0., 0., 0.],\n",
            "       [0., 0., 0., ..., 0., 0., 0.],\n",
            "       ...,\n",
            "       [0., 0., 0., ..., 0., 0., 0.],\n",
            "       [0., 0., 0., ..., 0., 0., 0.],\n",
            "       [0., 0., 0., ..., 0., 0., 0.]], dtype=float32)>, 'output_2': <tf.Tensor: shape=(32, 36), dtype=float32, numpy=\n",
            "array([[0., 0., 0., ..., 0., 0., 1.],\n",
            "       [0., 0., 0., ..., 0., 0., 0.],\n",
            "       [0., 0., 0., ..., 0., 0., 0.],\n",
            "       ...,\n",
            "       [0., 0., 0., ..., 0., 0., 0.],\n",
            "       [0., 0., 0., ..., 0., 0., 0.],\n",
            "       [0., 0., 0., ..., 1., 0., 0.]], dtype=float32)>, 'output_3': <tf.Tensor: shape=(32, 36), dtype=float32, numpy=\n",
            "array([[0., 0., 0., ..., 0., 0., 0.],\n",
            "       [0., 0., 0., ..., 0., 0., 0.],\n",
            "       [0., 0., 0., ..., 0., 0., 0.],\n",
            "       ...,\n",
            "       [0., 0., 0., ..., 0., 0., 0.],\n",
            "       [0., 0., 0., ..., 0., 0., 0.],\n",
            "       [0., 0., 0., ..., 0., 0., 0.]], dtype=float32)>, 'output_4': <tf.Tensor: shape=(32, 36), dtype=float32, numpy=\n",
            "array([[0., 0., 0., ..., 0., 0., 0.],\n",
            "       [0., 0., 0., ..., 0., 0., 0.],\n",
            "       [0., 0., 0., ..., 0., 0., 0.],\n",
            "       ...,\n",
            "       [0., 0., 0., ..., 1., 0., 0.],\n",
            "       [0., 0., 0., ..., 0., 0., 0.],\n",
            "       [0., 0., 0., ..., 0., 0., 0.]], dtype=float32)>, 'output_5': <tf.Tensor: shape=(32, 36), dtype=float32, numpy=\n",
            "array([[0., 0., 0., ..., 1., 0., 0.],\n",
            "       [0., 0., 0., ..., 0., 0., 0.],\n",
            "       [0., 0., 0., ..., 0., 0., 0.],\n",
            "       ...,\n",
            "       [0., 0., 0., ..., 0., 0., 0.],\n",
            "       [0., 0., 0., ..., 0., 0., 0.],\n",
            "       [0., 0., 0., ..., 0., 0., 0.]], dtype=float32)>, 'output_6': <tf.Tensor: shape=(32, 36), dtype=float32, numpy=\n",
            "array([[0., 0., 0., ..., 0., 0., 0.],\n",
            "       [0., 0., 0., ..., 0., 0., 0.],\n",
            "       [0., 0., 0., ..., 0., 0., 0.],\n",
            "       ...,\n",
            "       [0., 0., 0., ..., 0., 0., 0.],\n",
            "       [0., 0., 0., ..., 0., 0., 0.],\n",
            "       [0., 0., 0., ..., 0., 0., 0.]], dtype=float32)>}\n"
          ]
        }
      ]
    },
    {
      "cell_type": "markdown",
      "source": [
        "# Modelling"
      ],
      "metadata": {
        "id": "zhlAZqKdKhW0"
      }
    },
    {
      "cell_type": "code",
      "source": [
        "from tensorflow.keras.applications import VGG16\n",
        "from tensorflow.keras.layers import GlobalAveragePooling2D\n",
        "\n",
        "base_model = VGG16(input_shape=(50, 250, 3), include_top=False, weights='imagenet')\n",
        "base_model.trainable = False  # Freeze the base model\n",
        "\n",
        "input_layer = base_model.input\n",
        "x = base_model.output\n",
        "x = GlobalAveragePooling2D()(x)\n",
        "x = Dense(512, activation='relu')(x)\n",
        "x = Dropout(0.5)(x)\n",
        "x = Dense(256, activation='relu')(x)\n",
        "x = Dropout(0.5)(x)\n",
        "\n",
        "outputs = [Dense(36, activation=\"softmax\", name=f'output_{i+1}')(x) for i in range(6)]\n",
        "\n",
        "model = Model(inputs=input_layer, outputs=outputs)"
      ],
      "metadata": {
        "colab": {
          "base_uri": "https://localhost:8080/"
        },
        "id": "wmSlJqqtbO-x",
        "outputId": "da701675-a4e6-46b1-e387-defe6431e7e9"
      },
      "execution_count": 92,
      "outputs": [
        {
          "output_type": "stream",
          "name": "stdout",
          "text": [
            "Downloading data from https://storage.googleapis.com/tensorflow/keras-applications/vgg16/vgg16_weights_tf_dim_ordering_tf_kernels_notop.h5\n",
            "58889256/58889256 [==============================] - 4s 0us/step\n"
          ]
        }
      ]
    },
    {
      "cell_type": "code",
      "source": [
        "input_layer = Input(shape=(50, 250, 3))\n",
        "x = Conv2D(64, (3, 3), activation=\"relu\")(input_layer)\n",
        "x = BatchNormalization()(x)\n",
        "x = MaxPooling2D(2, 2)(x)\n",
        "x = Dropout(0.25)(x)\n",
        "\n",
        "x = Conv2D(128, (3, 3), activation=\"relu\")(x)\n",
        "x = BatchNormalization()(x)\n",
        "x = MaxPooling2D(2, 2)(x)\n",
        "x = Dropout(0.25)(x)\n",
        "\n",
        "x = Conv2D(256, (3, 3), activation=\"relu\")(x)\n",
        "x = BatchNormalization()(x)\n",
        "x = MaxPooling2D(2, 2)(x)\n",
        "x = Dropout(0.25)(x)\n",
        "\n",
        "x = Flatten()(x)\n",
        "x = Dense(512, activation='relu')(x)\n",
        "x = Dropout(0.5)(x)\n",
        "x = Dense(256, activation='relu')(x)\n",
        "x = Dropout(0.5)(x)\n",
        "\n",
        "outputs = [Dense(36, activation=\"softmax\", name=f'output_{i+1}')(x) for i in range(6)]\n",
        "\n",
        "model = Model(inputs=input_layer, outputs=outputs)"
      ],
      "metadata": {
        "id": "iVJKM_leV-wU"
      },
      "execution_count": 88,
      "outputs": []
    },
    {
      "cell_type": "code",
      "source": [
        "model.summary()"
      ],
      "metadata": {
        "id": "aTD3rOMUbeu7",
        "colab": {
          "base_uri": "https://localhost:8080/"
        },
        "outputId": "07827fd7-34fc-4da8-ebd2-283537c97842"
      },
      "execution_count": 93,
      "outputs": [
        {
          "output_type": "stream",
          "name": "stdout",
          "text": [
            "Model: \"model_7\"\n",
            "__________________________________________________________________________________________________\n",
            " Layer (type)                Output Shape                 Param #   Connected to                  \n",
            "==================================================================================================\n",
            " input_10 (InputLayer)       [(None, 50, 250, 3)]         0         []                            \n",
            "                                                                                                  \n",
            " block1_conv1 (Conv2D)       (None, 50, 250, 64)          1792      ['input_10[0][0]']            \n",
            "                                                                                                  \n",
            " block1_conv2 (Conv2D)       (None, 50, 250, 64)          36928     ['block1_conv1[0][0]']        \n",
            "                                                                                                  \n",
            " block1_pool (MaxPooling2D)  (None, 25, 125, 64)          0         ['block1_conv2[0][0]']        \n",
            "                                                                                                  \n",
            " block2_conv1 (Conv2D)       (None, 25, 125, 128)         73856     ['block1_pool[0][0]']         \n",
            "                                                                                                  \n",
            " block2_conv2 (Conv2D)       (None, 25, 125, 128)         147584    ['block2_conv1[0][0]']        \n",
            "                                                                                                  \n",
            " block2_pool (MaxPooling2D)  (None, 12, 62, 128)          0         ['block2_conv2[0][0]']        \n",
            "                                                                                                  \n",
            " block3_conv1 (Conv2D)       (None, 12, 62, 256)          295168    ['block2_pool[0][0]']         \n",
            "                                                                                                  \n",
            " block3_conv2 (Conv2D)       (None, 12, 62, 256)          590080    ['block3_conv1[0][0]']        \n",
            "                                                                                                  \n",
            " block3_conv3 (Conv2D)       (None, 12, 62, 256)          590080    ['block3_conv2[0][0]']        \n",
            "                                                                                                  \n",
            " block3_pool (MaxPooling2D)  (None, 6, 31, 256)           0         ['block3_conv3[0][0]']        \n",
            "                                                                                                  \n",
            " block4_conv1 (Conv2D)       (None, 6, 31, 512)           1180160   ['block3_pool[0][0]']         \n",
            "                                                                                                  \n",
            " block4_conv2 (Conv2D)       (None, 6, 31, 512)           2359808   ['block4_conv1[0][0]']        \n",
            "                                                                                                  \n",
            " block4_conv3 (Conv2D)       (None, 6, 31, 512)           2359808   ['block4_conv2[0][0]']        \n",
            "                                                                                                  \n",
            " block4_pool (MaxPooling2D)  (None, 3, 15, 512)           0         ['block4_conv3[0][0]']        \n",
            "                                                                                                  \n",
            " block5_conv1 (Conv2D)       (None, 3, 15, 512)           2359808   ['block4_pool[0][0]']         \n",
            "                                                                                                  \n",
            " block5_conv2 (Conv2D)       (None, 3, 15, 512)           2359808   ['block5_conv1[0][0]']        \n",
            "                                                                                                  \n",
            " block5_conv3 (Conv2D)       (None, 3, 15, 512)           2359808   ['block5_conv2[0][0]']        \n",
            "                                                                                                  \n",
            " block5_pool (MaxPooling2D)  (None, 1, 7, 512)            0         ['block5_conv3[0][0]']        \n",
            "                                                                                                  \n",
            " global_average_pooling2d (  (None, 512)                  0         ['block5_pool[0][0]']         \n",
            " GlobalAveragePooling2D)                                                                          \n",
            "                                                                                                  \n",
            " dense_65 (Dense)            (None, 512)                  262656    ['global_average_pooling2d[0][\n",
            "                                                                    0]']                          \n",
            "                                                                                                  \n",
            " dropout_35 (Dropout)        (None, 512)                  0         ['dense_65[0][0]']            \n",
            "                                                                                                  \n",
            " dense_66 (Dense)            (None, 256)                  131328    ['dropout_35[0][0]']          \n",
            "                                                                                                  \n",
            " dropout_36 (Dropout)        (None, 256)                  0         ['dense_66[0][0]']            \n",
            "                                                                                                  \n",
            " output_1 (Dense)            (None, 36)                   9252      ['dropout_36[0][0]']          \n",
            "                                                                                                  \n",
            " output_2 (Dense)            (None, 36)                   9252      ['dropout_36[0][0]']          \n",
            "                                                                                                  \n",
            " output_3 (Dense)            (None, 36)                   9252      ['dropout_36[0][0]']          \n",
            "                                                                                                  \n",
            " output_4 (Dense)            (None, 36)                   9252      ['dropout_36[0][0]']          \n",
            "                                                                                                  \n",
            " output_5 (Dense)            (None, 36)                   9252      ['dropout_36[0][0]']          \n",
            "                                                                                                  \n",
            " output_6 (Dense)            (None, 36)                   9252      ['dropout_36[0][0]']          \n",
            "                                                                                                  \n",
            "==================================================================================================\n",
            "Total params: 15164184 (57.85 MB)\n",
            "Trainable params: 449496 (1.71 MB)\n",
            "Non-trainable params: 14714688 (56.13 MB)\n",
            "__________________________________________________________________________________________________\n"
          ]
        }
      ]
    },
    {
      "cell_type": "code",
      "source": [
        "model.compile(\n",
        "    optimizer=tf.keras.optimizers.Adam(learning_rate=1e-3),\n",
        "    loss=\"categorical_crossentropy\",\n",
        "    metrics=[\"accuracy\"]\n",
        ")"
      ],
      "metadata": {
        "id": "Ox0vCkxkoSh2"
      },
      "execution_count": 94,
      "outputs": []
    },
    {
      "cell_type": "code",
      "source": [
        "history = model.fit(\n",
        "    train_dataset,\n",
        "    epochs=10,\n",
        "    validation_data=(val_dataset),\n",
        ")"
      ],
      "metadata": {
        "colab": {
          "base_uri": "https://localhost:8080/"
        },
        "id": "Mm8wOsHiolV9",
        "outputId": "543c1978-86e1-415c-ac43-6a80319d7a3a"
      },
      "execution_count": 95,
      "outputs": [
        {
          "output_type": "stream",
          "name": "stdout",
          "text": [
            "Epoch 1/10\n",
            "266/266 [==============================] - 24s 67ms/step - loss: 22.4221 - output_1_loss: 3.7351 - output_2_loss: 3.7449 - output_3_loss: 3.7615 - output_4_loss: 3.7325 - output_5_loss: 3.7232 - output_6_loss: 3.7249 - output_1_accuracy: 0.0454 - output_2_accuracy: 0.0503 - output_3_accuracy: 0.0496 - output_4_accuracy: 0.0473 - output_5_accuracy: 0.0499 - output_6_accuracy: 0.0532 - val_loss: 18.4208 - val_output_1_loss: 3.0609 - val_output_2_loss: 3.0654 - val_output_3_loss: 3.0794 - val_output_4_loss: 3.0654 - val_output_5_loss: 3.0752 - val_output_6_loss: 3.0745 - val_output_1_accuracy: 0.0540 - val_output_2_accuracy: 0.0527 - val_output_3_accuracy: 0.0580 - val_output_4_accuracy: 0.0547 - val_output_5_accuracy: 0.0453 - val_output_6_accuracy: 0.0467\n",
            "Epoch 2/10\n",
            "266/266 [==============================] - 13s 49ms/step - loss: 18.7887 - output_1_loss: 3.1121 - output_2_loss: 3.1397 - output_3_loss: 3.1346 - output_4_loss: 3.1354 - output_5_loss: 3.1327 - output_6_loss: 3.1342 - output_1_accuracy: 0.0594 - output_2_accuracy: 0.0495 - output_3_accuracy: 0.0493 - output_4_accuracy: 0.0518 - output_5_accuracy: 0.0535 - output_6_accuracy: 0.0581 - val_loss: 18.1438 - val_output_1_loss: 2.9843 - val_output_2_loss: 3.0307 - val_output_3_loss: 3.0373 - val_output_4_loss: 3.0351 - val_output_5_loss: 3.0289 - val_output_6_loss: 3.0275 - val_output_1_accuracy: 0.0953 - val_output_2_accuracy: 0.0600 - val_output_3_accuracy: 0.0627 - val_output_4_accuracy: 0.0540 - val_output_5_accuracy: 0.0647 - val_output_6_accuracy: 0.0647\n",
            "Epoch 3/10\n",
            "266/266 [==============================] - 13s 50ms/step - loss: 18.4538 - output_1_loss: 3.0482 - output_2_loss: 3.0812 - output_3_loss: 3.0779 - output_4_loss: 3.0823 - output_5_loss: 3.0790 - output_6_loss: 3.0851 - output_1_accuracy: 0.0663 - output_2_accuracy: 0.0521 - output_3_accuracy: 0.0599 - output_4_accuracy: 0.0593 - output_5_accuracy: 0.0566 - output_6_accuracy: 0.0614 - val_loss: 18.0314 - val_output_1_loss: 2.9536 - val_output_2_loss: 3.0109 - val_output_3_loss: 3.0201 - val_output_4_loss: 3.0177 - val_output_5_loss: 3.0095 - val_output_6_loss: 3.0197 - val_output_1_accuracy: 0.0773 - val_output_2_accuracy: 0.0593 - val_output_3_accuracy: 0.0573 - val_output_4_accuracy: 0.0740 - val_output_5_accuracy: 0.0787 - val_output_6_accuracy: 0.0633\n",
            "Epoch 4/10\n",
            "266/266 [==============================] - 13s 49ms/step - loss: 18.3478 - output_1_loss: 3.0235 - output_2_loss: 3.0662 - output_3_loss: 3.0613 - output_4_loss: 3.0643 - output_5_loss: 3.0626 - output_6_loss: 3.0699 - output_1_accuracy: 0.0686 - output_2_accuracy: 0.0582 - output_3_accuracy: 0.0651 - output_4_accuracy: 0.0592 - output_5_accuracy: 0.0633 - output_6_accuracy: 0.0569 - val_loss: 17.8823 - val_output_1_loss: 2.9096 - val_output_2_loss: 2.9885 - val_output_3_loss: 2.9988 - val_output_4_loss: 2.9925 - val_output_5_loss: 2.9850 - val_output_6_loss: 3.0078 - val_output_1_accuracy: 0.1040 - val_output_2_accuracy: 0.0807 - val_output_3_accuracy: 0.0753 - val_output_4_accuracy: 0.0747 - val_output_5_accuracy: 0.0847 - val_output_6_accuracy: 0.0740\n",
            "Epoch 5/10\n",
            "266/266 [==============================] - 13s 49ms/step - loss: 18.2092 - output_1_loss: 2.9788 - output_2_loss: 3.0431 - output_3_loss: 3.0495 - output_4_loss: 3.0459 - output_5_loss: 3.0413 - output_6_loss: 3.0506 - output_1_accuracy: 0.0740 - output_2_accuracy: 0.0668 - output_3_accuracy: 0.0659 - output_4_accuracy: 0.0621 - output_5_accuracy: 0.0611 - output_6_accuracy: 0.0600 - val_loss: 17.7833 - val_output_1_loss: 2.8691 - val_output_2_loss: 2.9646 - val_output_3_loss: 2.9911 - val_output_4_loss: 2.9872 - val_output_5_loss: 2.9754 - val_output_6_loss: 2.9958 - val_output_1_accuracy: 0.1200 - val_output_2_accuracy: 0.0727 - val_output_3_accuracy: 0.0793 - val_output_4_accuracy: 0.0720 - val_output_5_accuracy: 0.0867 - val_output_6_accuracy: 0.0833\n",
            "Epoch 6/10\n",
            "266/266 [==============================] - 13s 50ms/step - loss: 18.1161 - output_1_loss: 2.9416 - output_2_loss: 3.0349 - output_3_loss: 3.0335 - output_4_loss: 3.0333 - output_5_loss: 3.0343 - output_6_loss: 3.0384 - output_1_accuracy: 0.0869 - output_2_accuracy: 0.0635 - output_3_accuracy: 0.0681 - output_4_accuracy: 0.0663 - output_5_accuracy: 0.0638 - output_6_accuracy: 0.0659 - val_loss: 17.6944 - val_output_1_loss: 2.8209 - val_output_2_loss: 2.9607 - val_output_3_loss: 2.9839 - val_output_4_loss: 2.9702 - val_output_5_loss: 2.9665 - val_output_6_loss: 2.9923 - val_output_1_accuracy: 0.1360 - val_output_2_accuracy: 0.0847 - val_output_3_accuracy: 0.0767 - val_output_4_accuracy: 0.0887 - val_output_5_accuracy: 0.0913 - val_output_6_accuracy: 0.0767\n",
            "Epoch 7/10\n",
            "266/266 [==============================] - 13s 50ms/step - loss: 18.0099 - output_1_loss: 2.8982 - output_2_loss: 3.0216 - output_3_loss: 3.0204 - output_4_loss: 3.0220 - output_5_loss: 3.0189 - output_6_loss: 3.0288 - output_1_accuracy: 0.0927 - output_2_accuracy: 0.0743 - output_3_accuracy: 0.0698 - output_4_accuracy: 0.0681 - output_5_accuracy: 0.0695 - output_6_accuracy: 0.0666 - val_loss: 17.5850 - val_output_1_loss: 2.7492 - val_output_2_loss: 2.9546 - val_output_3_loss: 2.9743 - val_output_4_loss: 2.9570 - val_output_5_loss: 2.9616 - val_output_6_loss: 2.9882 - val_output_1_accuracy: 0.1560 - val_output_2_accuracy: 0.0900 - val_output_3_accuracy: 0.0720 - val_output_4_accuracy: 0.0807 - val_output_5_accuracy: 0.0913 - val_output_6_accuracy: 0.0840\n",
            "Epoch 8/10\n",
            "266/266 [==============================] - 13s 49ms/step - loss: 17.9008 - output_1_loss: 2.8404 - output_2_loss: 3.0152 - output_3_loss: 3.0093 - output_4_loss: 3.0059 - output_5_loss: 3.0072 - output_6_loss: 3.0228 - output_1_accuracy: 0.1060 - output_2_accuracy: 0.0729 - output_3_accuracy: 0.0691 - output_4_accuracy: 0.0708 - output_5_accuracy: 0.0733 - output_6_accuracy: 0.0695 - val_loss: 17.4552 - val_output_1_loss: 2.6773 - val_output_2_loss: 2.9496 - val_output_3_loss: 2.9625 - val_output_4_loss: 2.9449 - val_output_5_loss: 2.9438 - val_output_6_loss: 2.9772 - val_output_1_accuracy: 0.1833 - val_output_2_accuracy: 0.0780 - val_output_3_accuracy: 0.0940 - val_output_4_accuracy: 0.0853 - val_output_5_accuracy: 0.0993 - val_output_6_accuracy: 0.0807\n",
            "Epoch 9/10\n",
            "266/266 [==============================] - 13s 49ms/step - loss: 17.7899 - output_1_loss: 2.7837 - output_2_loss: 2.9985 - output_3_loss: 2.9995 - output_4_loss: 2.9935 - output_5_loss: 2.9938 - output_6_loss: 3.0209 - output_1_accuracy: 0.1180 - output_2_accuracy: 0.0769 - output_3_accuracy: 0.0721 - output_4_accuracy: 0.0739 - output_5_accuracy: 0.0720 - output_6_accuracy: 0.0681 - val_loss: 17.3528 - val_output_1_loss: 2.6162 - val_output_2_loss: 2.9322 - val_output_3_loss: 2.9562 - val_output_4_loss: 2.9367 - val_output_5_loss: 2.9392 - val_output_6_loss: 2.9724 - val_output_1_accuracy: 0.1853 - val_output_2_accuracy: 0.0940 - val_output_3_accuracy: 0.0953 - val_output_4_accuracy: 0.0927 - val_output_5_accuracy: 0.0913 - val_output_6_accuracy: 0.0787\n",
            "Epoch 10/10\n",
            "266/266 [==============================] - 13s 49ms/step - loss: 17.7109 - output_1_loss: 2.7515 - output_2_loss: 2.9949 - output_3_loss: 2.9859 - output_4_loss: 2.9850 - output_5_loss: 2.9848 - output_6_loss: 3.0089 - output_1_accuracy: 0.1254 - output_2_accuracy: 0.0727 - output_3_accuracy: 0.0742 - output_4_accuracy: 0.0748 - output_5_accuracy: 0.0738 - output_6_accuracy: 0.0735 - val_loss: 17.2238 - val_output_1_loss: 2.5423 - val_output_2_loss: 2.9206 - val_output_3_loss: 2.9430 - val_output_4_loss: 2.9298 - val_output_5_loss: 2.9234 - val_output_6_loss: 2.9647 - val_output_1_accuracy: 0.2147 - val_output_2_accuracy: 0.1100 - val_output_3_accuracy: 0.0927 - val_output_4_accuracy: 0.0967 - val_output_5_accuracy: 0.1067 - val_output_6_accuracy: 0.0873\n"
          ]
        }
      ]
    },
    {
      "cell_type": "code",
      "source": [
        "from google.colab import files\n",
        "uploaded = files.upload()"
      ],
      "metadata": {
        "colab": {
          "base_uri": "https://localhost:8080/",
          "height": 145
        },
        "id": "5hwVpcjjolcU",
        "outputId": "c1863a57-29af-4290-ec8e-c0e8e86c6a69"
      },
      "execution_count": 114,
      "outputs": [
        {
          "output_type": "display_data",
          "data": {
            "text/plain": [
              "<IPython.core.display.HTML object>"
            ],
            "text/html": [
              "\n",
              "     <input type=\"file\" id=\"files-3cc0df08-d4c5-443b-98cb-3952329d895e\" name=\"files[]\" multiple disabled\n",
              "        style=\"border:none\" />\n",
              "     <output id=\"result-3cc0df08-d4c5-443b-98cb-3952329d895e\">\n",
              "      Upload widget is only available when the cell has been executed in the\n",
              "      current browser session. Please rerun this cell to enable.\n",
              "      </output>\n",
              "      <script>// Copyright 2017 Google LLC\n",
              "//\n",
              "// Licensed under the Apache License, Version 2.0 (the \"License\");\n",
              "// you may not use this file except in compliance with the License.\n",
              "// You may obtain a copy of the License at\n",
              "//\n",
              "//      http://www.apache.org/licenses/LICENSE-2.0\n",
              "//\n",
              "// Unless required by applicable law or agreed to in writing, software\n",
              "// distributed under the License is distributed on an \"AS IS\" BASIS,\n",
              "// WITHOUT WARRANTIES OR CONDITIONS OF ANY KIND, either express or implied.\n",
              "// See the License for the specific language governing permissions and\n",
              "// limitations under the License.\n",
              "\n",
              "/**\n",
              " * @fileoverview Helpers for google.colab Python module.\n",
              " */\n",
              "(function(scope) {\n",
              "function span(text, styleAttributes = {}) {\n",
              "  const element = document.createElement('span');\n",
              "  element.textContent = text;\n",
              "  for (const key of Object.keys(styleAttributes)) {\n",
              "    element.style[key] = styleAttributes[key];\n",
              "  }\n",
              "  return element;\n",
              "}\n",
              "\n",
              "// Max number of bytes which will be uploaded at a time.\n",
              "const MAX_PAYLOAD_SIZE = 100 * 1024;\n",
              "\n",
              "function _uploadFiles(inputId, outputId) {\n",
              "  const steps = uploadFilesStep(inputId, outputId);\n",
              "  const outputElement = document.getElementById(outputId);\n",
              "  // Cache steps on the outputElement to make it available for the next call\n",
              "  // to uploadFilesContinue from Python.\n",
              "  outputElement.steps = steps;\n",
              "\n",
              "  return _uploadFilesContinue(outputId);\n",
              "}\n",
              "\n",
              "// This is roughly an async generator (not supported in the browser yet),\n",
              "// where there are multiple asynchronous steps and the Python side is going\n",
              "// to poll for completion of each step.\n",
              "// This uses a Promise to block the python side on completion of each step,\n",
              "// then passes the result of the previous step as the input to the next step.\n",
              "function _uploadFilesContinue(outputId) {\n",
              "  const outputElement = document.getElementById(outputId);\n",
              "  const steps = outputElement.steps;\n",
              "\n",
              "  const next = steps.next(outputElement.lastPromiseValue);\n",
              "  return Promise.resolve(next.value.promise).then((value) => {\n",
              "    // Cache the last promise value to make it available to the next\n",
              "    // step of the generator.\n",
              "    outputElement.lastPromiseValue = value;\n",
              "    return next.value.response;\n",
              "  });\n",
              "}\n",
              "\n",
              "/**\n",
              " * Generator function which is called between each async step of the upload\n",
              " * process.\n",
              " * @param {string} inputId Element ID of the input file picker element.\n",
              " * @param {string} outputId Element ID of the output display.\n",
              " * @return {!Iterable<!Object>} Iterable of next steps.\n",
              " */\n",
              "function* uploadFilesStep(inputId, outputId) {\n",
              "  const inputElement = document.getElementById(inputId);\n",
              "  inputElement.disabled = false;\n",
              "\n",
              "  const outputElement = document.getElementById(outputId);\n",
              "  outputElement.innerHTML = '';\n",
              "\n",
              "  const pickedPromise = new Promise((resolve) => {\n",
              "    inputElement.addEventListener('change', (e) => {\n",
              "      resolve(e.target.files);\n",
              "    });\n",
              "  });\n",
              "\n",
              "  const cancel = document.createElement('button');\n",
              "  inputElement.parentElement.appendChild(cancel);\n",
              "  cancel.textContent = 'Cancel upload';\n",
              "  const cancelPromise = new Promise((resolve) => {\n",
              "    cancel.onclick = () => {\n",
              "      resolve(null);\n",
              "    };\n",
              "  });\n",
              "\n",
              "  // Wait for the user to pick the files.\n",
              "  const files = yield {\n",
              "    promise: Promise.race([pickedPromise, cancelPromise]),\n",
              "    response: {\n",
              "      action: 'starting',\n",
              "    }\n",
              "  };\n",
              "\n",
              "  cancel.remove();\n",
              "\n",
              "  // Disable the input element since further picks are not allowed.\n",
              "  inputElement.disabled = true;\n",
              "\n",
              "  if (!files) {\n",
              "    return {\n",
              "      response: {\n",
              "        action: 'complete',\n",
              "      }\n",
              "    };\n",
              "  }\n",
              "\n",
              "  for (const file of files) {\n",
              "    const li = document.createElement('li');\n",
              "    li.append(span(file.name, {fontWeight: 'bold'}));\n",
              "    li.append(span(\n",
              "        `(${file.type || 'n/a'}) - ${file.size} bytes, ` +\n",
              "        `last modified: ${\n",
              "            file.lastModifiedDate ? file.lastModifiedDate.toLocaleDateString() :\n",
              "                                    'n/a'} - `));\n",
              "    const percent = span('0% done');\n",
              "    li.appendChild(percent);\n",
              "\n",
              "    outputElement.appendChild(li);\n",
              "\n",
              "    const fileDataPromise = new Promise((resolve) => {\n",
              "      const reader = new FileReader();\n",
              "      reader.onload = (e) => {\n",
              "        resolve(e.target.result);\n",
              "      };\n",
              "      reader.readAsArrayBuffer(file);\n",
              "    });\n",
              "    // Wait for the data to be ready.\n",
              "    let fileData = yield {\n",
              "      promise: fileDataPromise,\n",
              "      response: {\n",
              "        action: 'continue',\n",
              "      }\n",
              "    };\n",
              "\n",
              "    // Use a chunked sending to avoid message size limits. See b/62115660.\n",
              "    let position = 0;\n",
              "    do {\n",
              "      const length = Math.min(fileData.byteLength - position, MAX_PAYLOAD_SIZE);\n",
              "      const chunk = new Uint8Array(fileData, position, length);\n",
              "      position += length;\n",
              "\n",
              "      const base64 = btoa(String.fromCharCode.apply(null, chunk));\n",
              "      yield {\n",
              "        response: {\n",
              "          action: 'append',\n",
              "          file: file.name,\n",
              "          data: base64,\n",
              "        },\n",
              "      };\n",
              "\n",
              "      let percentDone = fileData.byteLength === 0 ?\n",
              "          100 :\n",
              "          Math.round((position / fileData.byteLength) * 100);\n",
              "      percent.textContent = `${percentDone}% done`;\n",
              "\n",
              "    } while (position < fileData.byteLength);\n",
              "  }\n",
              "\n",
              "  // All done.\n",
              "  yield {\n",
              "    response: {\n",
              "      action: 'complete',\n",
              "    }\n",
              "  };\n",
              "}\n",
              "\n",
              "scope.google = scope.google || {};\n",
              "scope.google.colab = scope.google.colab || {};\n",
              "scope.google.colab._files = {\n",
              "  _uploadFiles,\n",
              "  _uploadFilesContinue,\n",
              "};\n",
              "})(self);\n",
              "</script> "
            ]
          },
          "metadata": {}
        },
        {
          "output_type": "stream",
          "name": "stdout",
          "text": [
            "Saving 8514_bszavb.jpeg to 8514_bszavb (2).jpeg\n",
            "Saving 8522_nprxdm.jpeg to 8522_nprxdm (1).jpeg\n",
            "Saving 8549_cusan2.jpeg to 8549_cusan2 (1).jpeg\n"
          ]
        }
      ]
    },
    {
      "cell_type": "code",
      "source": [
        "import matplotlib.pyplot as plt\n",
        "for i, fn in enumerate(uploaded.keys()):\n",
        "  img = Image.open(fn)\n",
        "  img = img.resize((250, 50))  # Ensure the image size matches the input size of the model\n",
        "  img_array = np.array(img) / 255.0\n",
        "  img_batch = np.expand_dims(img_array, axis=0)  # Add batch dimension\n",
        "\n",
        "  predictions = model.predict(img_batch)\n",
        "\n",
        "  # Convert predictions to indices and then to characters\n",
        "  predicted_labels = []\n",
        "\n",
        "  for pred in zip(*predictions):\n",
        "      pred_indices = [np.argmax(p) for p in pred]\n",
        "      pred_labels = indices_to_labels(pred_indices)\n",
        "      predicted_labels.append(pred_labels)\n",
        "\n",
        "  plt.imshow(img)\n",
        "  plt.title(f\"Predicted: {predicted_labels}\")\n",
        "  plt.show()"
      ],
      "metadata": {
        "colab": {
          "base_uri": "https://localhost:8080/",
          "height": 566
        },
        "id": "RJD2q_1fnb_z",
        "outputId": "5b85c1f3-077a-4763-d03b-2133cc1c1be5"
      },
      "execution_count": 115,
      "outputs": [
        {
          "output_type": "stream",
          "name": "stdout",
          "text": [
            "1/1 [==============================] - 0s 18ms/step\n"
          ]
        },
        {
          "output_type": "display_data",
          "data": {
            "text/plain": [
              "<Figure size 640x480 with 1 Axes>"
            ],
            "image/png": "[encoded data removed]"
          },
          "metadata": {}
        },
        {
          "output_type": "stream",
          "name": "stdout",
          "text": [
            "1/1 [==============================] - 0s 18ms/step\n"
          ]
        },
        {
          "output_type": "display_data",
          "data": {
            "text/plain": [
              "<Figure size 640x480 with 1 Axes>"
            ],
            "image/png": "[encoded data removed]"
          },
          "metadata": {}
        },
        {
          "output_type": "stream",
          "name": "stdout",
          "text": [
            "1/1 [==============================] - 0s 17ms/step\n"
          ]
        },
        {
          "output_type": "display_data",
          "data": {
            "text/plain": [
              "<Figure size 640x480 with 1 Axes>"
            ],
            "image/png": "[encoded data removed]"
          },
          "metadata": {}
        }
      ]
    }
  ]
}